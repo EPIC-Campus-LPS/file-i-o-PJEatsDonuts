{
 "cells": [
  {
   "cell_type": "markdown",
   "metadata": {},
   "source": [
    "# Lab 0.4 File IO \n",
    "\n",
    "## Objective\n",
    "\n",
    "1. Read information from files using Python\n",
    "2. Use regular expressions to extract information from text\n",
    "3. Create files using Python\n",
    "\n",
    "*The challenge section and \"just for fun\" section are optional.*\n",
    "\n",
    "## Rubric\n",
    "\n",
    "- 6 pts - Contains all required components and uses professional language\n",
    "- 5 pts - Contains all required components, but uses unprofessional language, formating, etc. \n",
    "- 4 pts - Contains some, but not all, of the required components\n",
    "- 3 pts - Did not submit"
   ]
  },
  {
   "cell_type": "markdown",
   "metadata": {},
   "source": [
    "## Part 1: Letter Frequency\n",
    "\n",
    "A Caesar cipher, or a shift cipher, is one of the simplest encryption techniques. This method is named after Julius Caesar who would use it to send private messages. To encrypt information with a Caesar cipher, each letter in your message or plaintext is replaced by a letter a fixed numbers of positions away in the alphabet to generate your ciphertext.\n",
    "\n",
    "For example, if I wanted to encrypt the message `ECHO` using a left shift of 3, I would rewrite each character by shifting the entire alphabet left by 3 characters. Using the chart and key below, we can see that `E -> B`, `C -> Z`, `H -> E`, and `O -> L`. So `ECHO` becomes `BZEL`.\n",
    "\n",
    "![Pasted image 20231227102315](https://github.com/gormes-EPIC/FileIO-CSV-DSF/assets/134316348/36015604-5669-475c-a8c6-3d4674da98d4)\n",
    "- Plaintext:  ABCDEFGHIJKLMNOPQRSTUVWXYZ\n",
    "- Ciphertext: XYZABCDEFGHIJKLMNOPQRSTUVW\n",
    "\n",
    "We can use the same cipher to encrypt the plaintext `THE QUICK BROWN FOX JUMPS OVER THE LAZY DOG` as the ciphertext `QEB NRFZH YOLTK CLU GRJMP LSBO QEB IXWV ALD`. Then decrypt it using our key in the other direction and shifting right by 3.\n",
    "\n",
    "As long as whoever is reading the message knows you have shifted the alphabet left by 3, it is straightforward to decrypt `BZEL` as `ECHO`. But what if you intercepted this message and didn't know the original shift? By exploiting patterns in the English language, we can actually decrypt Caesar ciphers without knowing the original shift. [Source](https://www.101computing.net/caesar-cipher/)\n",
    "\n",
    "\n",
    "### Your Task\n",
    "\n",
    "One way to break a Caesar cipher is to look at the frequency of the letters. In a typical English text, some letters are much more frequent that others.\n",
    "\n",
    "To create your frequency table you will:\n",
    "\n",
    "1. Using [Project Gutenburg](https://www.gutenberg.org/) download at least one book into your directory. *Hint: Once you navigate to a book, copy the URL of the Plain Text UTF-8 download and user the `wget` command in your terminal.*\n",
    "2. Open your book using Python, count each of the letters, and create a frequency table.\n",
    "3. After you are done, print out the information.\n",
    "\n",
    "#### Example Output\n",
    "\n",
    "```\n",
    "A: 1023\n",
    "B: 356\n",
    "C: 40\n",
    "...\n",
    "```\n",
    "\n"
   ]
  },
  {
   "cell_type": "code",
   "execution_count": 219,
   "metadata": {},
   "outputs": [
    {
     "name": "stdout",
     "output_type": "stream",
     "text": [
      "a: 3722\n",
      "b: 755\n",
      "c: 1421\n",
      "d: 2147\n",
      "e: 6009\n",
      "f: 1185\n",
      "g: 1382\n",
      "h: 2992\n",
      "i: 3640\n",
      "j: 153\n",
      "k: 612\n",
      "l: 1963\n",
      "m: 971\n",
      "n: 3695\n",
      "o: 3896\n",
      "p: 1095\n",
      "q: 45\n",
      "r: 3122\n",
      "s: 2997\n",
      "t: 4698\n",
      "u: 1466\n",
      "v: 378\n",
      "w: 1145\n",
      "x: 60\n",
      "y: 998\n",
      "z: 33\n"
     ]
    }
   ],
   "source": [
    "#frequency table    \n",
    "freq = {\n",
    "    \"a\":0, \"b\":0, \"c\":0, \"d\":0,\n",
    "    \"e\":0, \"f\":0, \"g\":0, \"h\":0,\n",
    "    \"i\":0, \"j\":0, \"k\":0, \"l\":0, \n",
    "    \"m\":0, \"n\":0, \"o\":0, \"p\":0,\n",
    "    \"q\":0, \"r\":0, \"s\":0, \"t\":0,\n",
    "    \"u\":0, \"v\":0, \"w\":0, \"x\":0,\n",
    "    \"y\":0, \"z\":0 }\n",
    "\n",
    "with open(\"book.txt\", \"r\") as file:\n",
    "    lines = file.readlines()\n",
    "    for line in lines:\n",
    "        for ch in line:\n",
    "            ch = ch.lower()\n",
    "            if ch in freq:\n",
    "               freq[ch] = freq[ch] + 1\n",
    "for x in freq:\n",
    "    print(f\"{x}:\", freq[x] )\n",
    "\n"
   ]
  },
  {
   "cell_type": "markdown",
   "metadata": {},
   "source": [
    "### Just for Fun! Break this Caesar Cipher\n",
    "\n",
    "Decode the following ciphertext. Start by using the frequency table you just made and matching the most popular letters with the letters from above. *Tip: In addition to using your letter frequency table from above to help you, look at the 1 and 2 letter words carefully. There are limited options those characters could be! Also, look try to identify frequently used words like `THE` or `AND` in your ciphertext.*\n",
    "\n",
    "  Ciphertext:\n",
    "\n",
    "```\n",
    "\n",
    "PA PZ H WLYPVK VM JPCPS DHY. YLILS ZWHJLZOPWZ, ZAYPRPUN MYVT H OPKKLU IHZL, OHCL DVU AOLPY MPYZA CPJAVYF HNHPUZA AOL LCPS NHSHJAPJ LTWPYL. KBYPUN AOL IHAASL, YLILS ZWPLZ THUHNLK AV ZALHS ZLJYLA WSHUZ AV AOL LTWLYVY'Z BSAPTHAL DLHWVU, AOL KLHAO ZAHY, HU HYTVYLK ZWHJL ZAHAPVU DPAO LUVBNO WVDLY AV KLZAYVF HU LUAPYL WSHULA. WBYZBLK IF AOL LTWLYVY'Z ZPUPZALY HNLUAZ, WYPUJLZZ SLPH YHJLZ OVTL HIVHYK OLY ZAHYZOPW, JBZAVKPHU VM AOL ZAVSLU WSHUZ AOHA JHU ZHCL OLY WLVWSL HUK YLZAVYL MYLLKVT AV AOL NHSHEF ....\n",
    "\n",
    "```"
   ]
  },
  {
   "cell_type": "code",
   "execution_count": null,
   "metadata": {},
   "outputs": [],
   "source": [
    "#frequency table    \n",
    "freq = {\n",
    "    \"a\":0, \"b\":0, \"c\":0, \"d\":0,\n",
    "    \"e\":0, \"f\":0, \"g\":0, \"h\":0,\n",
    "    \"i\":0, \"j\":0, \"k\":0, \"l\":0, \n",
    "    \"m\":0, \"n\":0, \"o\":0, \"p\":0,\n",
    "    \"q\":0, \"r\":0, \"s\":0, \"t\":0,\n",
    "    \"u\":0, \"v\":0, \"w\":0, \"x\":0,\n",
    "    \"y\":0, \"z\":0 }\n",
    "\n",
    "with open(\"book.txt\", \"r\") as file:\n",
    "    lines = file.readlines()\n",
    "    for line in lines:\n",
    "        for ch in line:\n",
    "            ch = ch.lower()\n",
    "            \n",
    "            if ch in freq:\n",
    "               freq[ch] = freq[ch] + 1\n",
    "for x in freq:\n",
    "    print(f\"{x}:\", freq[x])\n",
    "\n",
    "    ### Just for Fun! Break this Caesar Cipher\n",
    "\n",
    "coded_m = \n",
    "PA PZ H WLYPVK VM JPCPS DHY. YLILS ZWHJLZOPWZ, ZAYPRPUN MYVT H OPKKLU IHZL, OHCL DVU AOLPY MPYZA CPJAVYF HNHPUZA AOL LCPS NHSHJAPJ LTWPYL. KBYPUN AOL IHAASL, YLILS ZWPLZ THUHNLK AV ZALHS ZLJYLA WSHUZ AV AOL LTWLYVY'Z BSAPTHAL DLHWVU, AOL KLHAO ZAHY, HU HYTVYLK ZWHJL ZAHAPVU DPAO LUVBNO WVDLY AV KLZAYVF HU LUAPYL WSHULA. WBYZBLK IF AOL LTWLYVY'Z ZPUPZALY HNLUAZ, WYPUJLZZ SLPH YHJLZ OVTL HIVHYK OLY ZAHYZOPW, JBZAVKPHU VM AOL ZAVSLU WSHUZ AOHA JHU ZHCL OLY WLVWSL HUK YLZAVYL MYLLKVT AV AOL NHSHEF ....\n",
    "\n"
   ]
  },
  {
   "cell_type": "markdown",
   "metadata": {},
   "source": [
    "## Part 2: Analyzing Server Activity\n",
    "\n",
    "One important way for businesses to keep themselves secure is to monitor their server logs.\n",
    "\n",
    "Read in `server_log.txt` containing server access logs with entries like \"IP Address-Timestamp-Page Accessed\". Notice which character we are using as a delimiter.\n",
    "\n",
    "- Count the total number of unique IP addresses that accessed the server.\n",
    "- Identify the top three most used IP addresses.\n",
    "- Generate a report file `server_summary.txt` containing this information."
   ]
  },
  {
   "cell_type": "code",
   "execution_count": null,
   "metadata": {},
   "outputs": [],
   "source": []
  },
  {
   "cell_type": "markdown",
   "metadata": {},
   "source": [
    "## Part 3: Creating Usernames\n",
    "\n",
    "Use the file `emails.txt` to create a list of usernames and random passwords for each user. Then, output the emails, usernames, and random passwords into an output file `output.txt`.\n",
    "\n",
    "The usernames should be the same username as the email. So for  `findlay_butler@hr.yahoo.com`, his username would be `findlay_butler`.\n",
    "\n",
    "The passwords should be 8 characters long and a random combination of letters and numbers. \n",
    "\n",
    "For the first user, `output.txt` should look like: \n",
    "```\n",
    "findlay_butler@hr.yahoo.com,findlay_butler,abiojash\n",
    "```\n",
    "\n",
    "### Challenge: Using Regular Expressions\n",
    "\n",
    "Instead of using the email username as their user account, their username should be their first initial and their last name instead. So for `findlay_butler@hr.yahoo.com`  the username would be `fbutler`. The easiest way to do this is probably **using regular expressions.** \n",
    "\n",
    "For more explanation and practice with regular expressions, use [regexone.com](https://regexone.com/). For help creating your regular expression query, use [regex101.com](https://regex101.com/). "
   ]
  },
  {
   "cell_type": "code",
   "execution_count": null,
   "metadata": {},
   "outputs": [],
   "source": []
  }
 ],
 "metadata": {
  "kernelspec": {
   "display_name": "Python 3",
   "language": "python",
   "name": "python3"
  },
  "language_info": {
   "codemirror_mode": {
    "name": "ipython",
    "version": 3
   },
   "file_extension": ".py",
   "mimetype": "text/x-python",
   "name": "python",
   "nbconvert_exporter": "python",
   "pygments_lexer": "ipython3",
   "version": "3.12.3"
  }
 },
 "nbformat": 4,
 "nbformat_minor": 2
}
